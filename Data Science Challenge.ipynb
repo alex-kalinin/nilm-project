{
 "cells": [
  {
   "cell_type": "markdown",
   "metadata": {},
   "source": [
    "## Data Science Challenge"
   ]
  },
  {
   "cell_type": "code",
   "execution_count": 1,
   "metadata": {
    "collapsed": true
   },
   "outputs": [],
   "source": [
    "import pandas as pd\n",
    "import numpy as np\n",
    "%matplotlib inline\n",
    "import matplotlib.pyplot as plt"
   ]
  },
  {
   "cell_type": "code",
   "execution_count": 2,
   "metadata": {
    "collapsed": true
   },
   "outputs": [],
   "source": [
    "df = pd.read_csv('data.txt', header=None, names=['t', 'w'])"
   ]
  },
  {
   "cell_type": "code",
   "execution_count": 4,
   "metadata": {},
   "outputs": [
    {
     "data": {
      "text/html": [
       "<div>\n",
       "<style>\n",
       "    .dataframe thead tr:only-child th {\n",
       "        text-align: right;\n",
       "    }\n",
       "\n",
       "    .dataframe thead th {\n",
       "        text-align: left;\n",
       "    }\n",
       "\n",
       "    .dataframe tbody tr th {\n",
       "        vertical-align: top;\n",
       "    }\n",
       "</style>\n",
       "<table border=\"1\" class=\"dataframe\">\n",
       "  <thead>\n",
       "    <tr style=\"text-align: right;\">\n",
       "      <th></th>\n",
       "      <th>t</th>\n",
       "      <th>w</th>\n",
       "    </tr>\n",
       "  </thead>\n",
       "  <tbody>\n",
       "    <tr>\n",
       "      <th>0</th>\n",
       "      <td>1312182000</td>\n",
       "      <td>1322</td>\n",
       "    </tr>\n",
       "    <tr>\n",
       "      <th>1</th>\n",
       "      <td>1312182001</td>\n",
       "      <td>1322</td>\n",
       "    </tr>\n",
       "    <tr>\n",
       "      <th>2</th>\n",
       "      <td>1312182002</td>\n",
       "      <td>1328</td>\n",
       "    </tr>\n",
       "    <tr>\n",
       "      <th>3</th>\n",
       "      <td>1312182003</td>\n",
       "      <td>1328</td>\n",
       "    </tr>\n",
       "    <tr>\n",
       "      <th>4</th>\n",
       "      <td>1312182004</td>\n",
       "      <td>1328</td>\n",
       "    </tr>\n",
       "  </tbody>\n",
       "</table>\n",
       "</div>"
      ],
      "text/plain": [
       "            t     w\n",
       "0  1312182000  1322\n",
       "1  1312182001  1322\n",
       "2  1312182002  1328\n",
       "3  1312182003  1328\n",
       "4  1312182004  1328"
      ]
     },
     "execution_count": 4,
     "metadata": {},
     "output_type": "execute_result"
    }
   ],
   "source": [
    "df.head()"
   ]
  },
  {
   "cell_type": "code",
   "execution_count": 5,
   "metadata": {
    "collapsed": true
   },
   "outputs": [],
   "source": [
    "min_time = min(df['t'])\n",
    "df['t'] = df['t'] - min_time"
   ]
  },
  {
   "cell_type": "code",
   "execution_count": 6,
   "metadata": {
    "collapsed": true
   },
   "outputs": [],
   "source": [
    "dfs = df.iloc[:10000]"
   ]
  },
  {
   "cell_type": "code",
   "execution_count": 7,
   "metadata": {},
   "outputs": [
    {
     "data": {
      "text/plain": [
       "<matplotlib.axes._subplots.AxesSubplot at 0x80a64f0b8>"
      ]
     },
     "execution_count": 7,
     "metadata": {},
     "output_type": "execute_result"
    },
    {
     "data": {
      "image/png": "[encoded data removed]",
      "text/plain": [
       "<matplotlib.figure.Figure at 0x80a62e438>"
      ]
     },
     "metadata": {},
     "output_type": "display_data"
    }
   ],
   "source": [
    "dfs.set_index('t').plot()"
   ]
  },
  {
   "cell_type": "markdown",
   "metadata": {},
   "source": [
    "## Appliances\n",
    "\n",
    "* AC1: 2,500 W / _10min\n",
    "* AC2: 4,000 W / _30min\n",
    "* Pool Pamp: 1,500 W  / _3hrs\n",
    "* Fridge: 200 W \n",
    "\n",
    "Extract each device's energy consumption time-series."
   ]
  },
  {
   "cell_type": "markdown",
   "metadata": {},
   "source": [
    "### Possible Approaches:\n",
    "\n",
    "* Steady state;\n",
    "steps/transitions "
   ]
  },
  {
   "cell_type": "markdown",
   "metadata": {},
   "source": [
    "Smooth out data. Any change less than DELTA is ignored."
   ]
  },
  {
   "cell_type": "code",
   "execution_count": 9,
   "metadata": {
    "collapsed": true
   },
   "outputs": [],
   "source": [
    "df_shifted = df.shift(1)"
   ]
  },
  {
   "cell_type": "code",
   "execution_count": 10,
   "metadata": {
    "collapsed": true
   },
   "outputs": [],
   "source": [
    "df['dw'] = df['w'] - df_shifted['w']"
   ]
  },
  {
   "cell_type": "code",
   "execution_count": 12,
   "metadata": {
    "collapsed": true
   },
   "outputs": [],
   "source": [
    "DELTA = 50\n",
    "\n",
    "df.loc[abs(df['dw']) < DELTA, 'dw'] = 0"
   ]
  },
  {
   "cell_type": "markdown",
   "metadata": {},
   "source": [
    "Identify state transitons:"
   ]
  },
  {
   "cell_type": "code",
   "execution_count": 31,
   "metadata": {
    "collapsed": true
   },
   "outputs": [],
   "source": [
    "changes_df = df[abs(df['dw']) > 0].copy()"
   ]
  },
  {
   "cell_type": "code",
   "execution_count": 32,
   "metadata": {
    "collapsed": true
   },
   "outputs": [],
   "source": [
    "changes_df['dt'] = changes_df['t'] - changes_df.shift(1)['t']\n",
    "changes_df['prev_w'] = changes_df['w'] - changes_df['dw']"
   ]
  },
  {
   "cell_type": "markdown",
   "metadata": {},
   "source": [
    "### Combinatorial Optimization\n",
    "\n",
    "Our set of devices is small, so we can apply a CO algorithm. We don't use data about durations yet."
   ]
  },
  {
   "cell_type": "code",
   "execution_count": 33,
   "metadata": {
    "collapsed": true
   },
   "outputs": [],
   "source": [
    "devices = {\"f\": 200, \"pp\": 1500, \"ac1\": 2500, \"ac2\": 4000}\n",
    "combos = {}\n",
    "combos_by_energy = {}"
   ]
  },
  {
   "cell_type": "code",
   "execution_count": 34,
   "metadata": {
    "collapsed": true
   },
   "outputs": [],
   "source": [
    "def build_combos(s: set):\n",
    "    if not s:\n",
    "        return [()]\n",
    "    n = s.pop()\n",
    "    subsets = build_combos(s)\n",
    "    extra = []\n",
    "    for sb in subsets:\n",
    "        nset = (n,) + sb\n",
    "        extra.append(nset)\n",
    "    subsets.extend(extra)\n",
    "    return subsets"
   ]
  },
  {
   "cell_type": "code",
   "execution_count": 35,
   "metadata": {
    "collapsed": true
   },
   "outputs": [],
   "source": [
    "def power(devices, subset):\n",
    "    result = 0\n",
    "    for d in subset:\n",
    "        result += devices[d]\n",
    "    return result\n",
    "\n",
    "tuple_sets = build_combos(set(devices.keys()))\n",
    "set_sets = [set(r) for r in tuple_sets]\n",
    "\n",
    "for t, s in zip(tuple_sets, set_sets):\n",
    "    combos[t] = power(devices, t)\n",
    "    combos_by_energy[power(devices, t)] = s"
   ]
  },
  {
   "cell_type": "code",
   "execution_count": 36,
   "metadata": {},
   "outputs": [
    {
     "data": {
      "text/plain": [
       "{(): 0,\n",
       " ('ac1',): 2500,\n",
       " ('ac1', 'ac2'): 6500,\n",
       " ('ac2',): 4000,\n",
       " ('f',): 200,\n",
       " ('f', 'ac1'): 2700,\n",
       " ('f', 'ac1', 'ac2'): 6700,\n",
       " ('f', 'ac2'): 4200,\n",
       " ('f', 'pp'): 1700,\n",
       " ('f', 'pp', 'ac1'): 4200,\n",
       " ('f', 'pp', 'ac1', 'ac2'): 8200,\n",
       " ('f', 'pp', 'ac2'): 5700,\n",
       " ('pp',): 1500,\n",
       " ('pp', 'ac1'): 4000,\n",
       " ('pp', 'ac1', 'ac2'): 8000,\n",
       " ('pp', 'ac2'): 5500}"
      ]
     },
     "execution_count": 36,
     "metadata": {},
     "output_type": "execute_result"
    }
   ],
   "source": [
    "combos"
   ]
  },
  {
   "cell_type": "markdown",
   "metadata": {},
   "source": [
    "Iterate over each row, find the closest energy, and set those devices to turned on."
   ]
  },
  {
   "cell_type": "code",
   "execution_count": 38,
   "metadata": {
    "collapsed": true
   },
   "outputs": [],
   "source": [
    "series_base = {'ac1': 0, 'ac2': 0, 'f': 0, 'pp': 0}"
   ]
  },
  {
   "cell_type": "code",
   "execution_count": 39,
   "metadata": {
    "collapsed": true
   },
   "outputs": [],
   "source": [
    "def device_on(w, device_name):\n",
    "    closest_e = -1\n",
    "    diff = 1 * float(\"inf\")\n",
    "    for e in combos_by_energy:\n",
    "        cur_diff = abs(w - e)\n",
    "        if cur_diff < diff:\n",
    "            diff = cur_diff\n",
    "            closest_e = e\n",
    "    devices_on = combos_by_energy[closest_e]\n",
    "    on = device_name in devices_on\n",
    "    return devices[device_name] if on else 0"
   ]
  },
  {
   "cell_type": "markdown",
   "metadata": {},
   "source": [
    "First build a naive time series where each device consumesthe exact amount of power as in its specification. Then, we will split the actual usage among active devices."
   ]
  },
  {
   "cell_type": "code",
   "execution_count": 40,
   "metadata": {
    "collapsed": true
   },
   "outputs": [],
   "source": [
    "df['ac1'] = df['w'].map(lambda w: device_on(w, 'ac1'))\n",
    "df['ac2'] = df['w'].map(lambda w: device_on(w, 'ac2'))\n",
    "df['f'] = df['w'].map(lambda w: device_on(w, 'f'))\n",
    "df['pp'] = df['w'].map(lambda w: device_on(w, 'pp'))"
   ]
  },
  {
   "cell_type": "markdown",
   "metadata": {},
   "source": [
    "Now split the actual power used among active devices:\n",
    "\n",
    "1. Calculate sum\n",
    "2. Ratio of each device: spec_w / sum\n",
    "3. Calculate new actual valus as w * ratio"
   ]
  },
  {
   "cell_type": "code",
   "execution_count": 41,
   "metadata": {
    "collapsed": true
   },
   "outputs": [],
   "source": [
    "df['total_spec_w'] = df[['ac1', 'ac2', 'f', 'pp']].sum(axis=1)\n",
    "for d in devices.keys():\n",
    "    df[d + '_ratio'] = df[d] / df['total_spec_w']\n",
    "\n",
    "for d in devices.keys():\n",
    "    df[d + '_actual'] = df['w'] * df[d + '_ratio']"
   ]
  },
  {
   "cell_type": "code",
   "execution_count": 42,
   "metadata": {
    "collapsed": true
   },
   "outputs": [],
   "source": [
    "df['t'] = df['t'] + min_time"
   ]
  },
  {
   "cell_type": "code",
   "execution_count": 43,
   "metadata": {},
   "outputs": [
    {
     "data": {
      "text/html": [
       "<div>\n",
       "<style>\n",
       "    .dataframe thead tr:only-child th {\n",
       "        text-align: right;\n",
       "    }\n",
       "\n",
       "    .dataframe thead th {\n",
       "        text-align: left;\n",
       "    }\n",
       "\n",
       "    .dataframe tbody tr th {\n",
       "        vertical-align: top;\n",
       "    }\n",
       "</style>\n",
       "<table border=\"1\" class=\"dataframe\">\n",
       "  <thead>\n",
       "    <tr style=\"text-align: right;\">\n",
       "      <th></th>\n",
       "      <th>t</th>\n",
       "      <th>w</th>\n",
       "      <th>dw</th>\n",
       "      <th>ac1</th>\n",
       "      <th>ac2</th>\n",
       "      <th>f</th>\n",
       "      <th>pp</th>\n",
       "      <th>total_spec_w</th>\n",
       "      <th>f_ratio</th>\n",
       "      <th>pp_ratio</th>\n",
       "      <th>ac2_ratio</th>\n",
       "      <th>ac1_ratio</th>\n",
       "      <th>f_actual</th>\n",
       "      <th>pp_actual</th>\n",
       "      <th>ac2_actual</th>\n",
       "      <th>ac1_actual</th>\n",
       "    </tr>\n",
       "  </thead>\n",
       "  <tbody>\n",
       "    <tr>\n",
       "      <th>0</th>\n",
       "      <td>2624364000</td>\n",
       "      <td>1322</td>\n",
       "      <td>NaN</td>\n",
       "      <td>0</td>\n",
       "      <td>0</td>\n",
       "      <td>0</td>\n",
       "      <td>1500</td>\n",
       "      <td>1500</td>\n",
       "      <td>0.0</td>\n",
       "      <td>1.0</td>\n",
       "      <td>0.0</td>\n",
       "      <td>0.0</td>\n",
       "      <td>0.0</td>\n",
       "      <td>1322.0</td>\n",
       "      <td>0.0</td>\n",
       "      <td>0.0</td>\n",
       "    </tr>\n",
       "    <tr>\n",
       "      <th>1</th>\n",
       "      <td>2624364001</td>\n",
       "      <td>1322</td>\n",
       "      <td>0.0</td>\n",
       "      <td>0</td>\n",
       "      <td>0</td>\n",
       "      <td>0</td>\n",
       "      <td>1500</td>\n",
       "      <td>1500</td>\n",
       "      <td>0.0</td>\n",
       "      <td>1.0</td>\n",
       "      <td>0.0</td>\n",
       "      <td>0.0</td>\n",
       "      <td>0.0</td>\n",
       "      <td>1322.0</td>\n",
       "      <td>0.0</td>\n",
       "      <td>0.0</td>\n",
       "    </tr>\n",
       "    <tr>\n",
       "      <th>2</th>\n",
       "      <td>2624364002</td>\n",
       "      <td>1328</td>\n",
       "      <td>0.0</td>\n",
       "      <td>0</td>\n",
       "      <td>0</td>\n",
       "      <td>0</td>\n",
       "      <td>1500</td>\n",
       "      <td>1500</td>\n",
       "      <td>0.0</td>\n",
       "      <td>1.0</td>\n",
       "      <td>0.0</td>\n",
       "      <td>0.0</td>\n",
       "      <td>0.0</td>\n",
       "      <td>1328.0</td>\n",
       "      <td>0.0</td>\n",
       "      <td>0.0</td>\n",
       "    </tr>\n",
       "    <tr>\n",
       "      <th>3</th>\n",
       "      <td>2624364003</td>\n",
       "      <td>1328</td>\n",
       "      <td>0.0</td>\n",
       "      <td>0</td>\n",
       "      <td>0</td>\n",
       "      <td>0</td>\n",
       "      <td>1500</td>\n",
       "      <td>1500</td>\n",
       "      <td>0.0</td>\n",
       "      <td>1.0</td>\n",
       "      <td>0.0</td>\n",
       "      <td>0.0</td>\n",
       "      <td>0.0</td>\n",
       "      <td>1328.0</td>\n",
       "      <td>0.0</td>\n",
       "      <td>0.0</td>\n",
       "    </tr>\n",
       "    <tr>\n",
       "      <th>4</th>\n",
       "      <td>2624364004</td>\n",
       "      <td>1328</td>\n",
       "      <td>0.0</td>\n",
       "      <td>0</td>\n",
       "      <td>0</td>\n",
       "      <td>0</td>\n",
       "      <td>1500</td>\n",
       "      <td>1500</td>\n",
       "      <td>0.0</td>\n",
       "      <td>1.0</td>\n",
       "      <td>0.0</td>\n",
       "      <td>0.0</td>\n",
       "      <td>0.0</td>\n",
       "      <td>1328.0</td>\n",
       "      <td>0.0</td>\n",
       "      <td>0.0</td>\n",
       "    </tr>\n",
       "    <tr>\n",
       "      <th>5</th>\n",
       "      <td>2624364005</td>\n",
       "      <td>1328</td>\n",
       "      <td>0.0</td>\n",
       "      <td>0</td>\n",
       "      <td>0</td>\n",
       "      <td>0</td>\n",
       "      <td>1500</td>\n",
       "      <td>1500</td>\n",
       "      <td>0.0</td>\n",
       "      <td>1.0</td>\n",
       "      <td>0.0</td>\n",
       "      <td>0.0</td>\n",
       "      <td>0.0</td>\n",
       "      <td>1328.0</td>\n",
       "      <td>0.0</td>\n",
       "      <td>0.0</td>\n",
       "    </tr>\n",
       "    <tr>\n",
       "      <th>6</th>\n",
       "      <td>2624364006</td>\n",
       "      <td>1328</td>\n",
       "      <td>0.0</td>\n",
       "      <td>0</td>\n",
       "      <td>0</td>\n",
       "      <td>0</td>\n",
       "      <td>1500</td>\n",
       "      <td>1500</td>\n",
       "      <td>0.0</td>\n",
       "      <td>1.0</td>\n",
       "      <td>0.0</td>\n",
       "      <td>0.0</td>\n",
       "      <td>0.0</td>\n",
       "      <td>1328.0</td>\n",
       "      <td>0.0</td>\n",
       "      <td>0.0</td>\n",
       "    </tr>\n",
       "    <tr>\n",
       "      <th>7</th>\n",
       "      <td>2624364007</td>\n",
       "      <td>1320</td>\n",
       "      <td>0.0</td>\n",
       "      <td>0</td>\n",
       "      <td>0</td>\n",
       "      <td>0</td>\n",
       "      <td>1500</td>\n",
       "      <td>1500</td>\n",
       "      <td>0.0</td>\n",
       "      <td>1.0</td>\n",
       "      <td>0.0</td>\n",
       "      <td>0.0</td>\n",
       "      <td>0.0</td>\n",
       "      <td>1320.0</td>\n",
       "      <td>0.0</td>\n",
       "      <td>0.0</td>\n",
       "    </tr>\n",
       "    <tr>\n",
       "      <th>8</th>\n",
       "      <td>2624364008</td>\n",
       "      <td>1320</td>\n",
       "      <td>0.0</td>\n",
       "      <td>0</td>\n",
       "      <td>0</td>\n",
       "      <td>0</td>\n",
       "      <td>1500</td>\n",
       "      <td>1500</td>\n",
       "      <td>0.0</td>\n",
       "      <td>1.0</td>\n",
       "      <td>0.0</td>\n",
       "      <td>0.0</td>\n",
       "      <td>0.0</td>\n",
       "      <td>1320.0</td>\n",
       "      <td>0.0</td>\n",
       "      <td>0.0</td>\n",
       "    </tr>\n",
       "    <tr>\n",
       "      <th>9</th>\n",
       "      <td>2624364009</td>\n",
       "      <td>1320</td>\n",
       "      <td>0.0</td>\n",
       "      <td>0</td>\n",
       "      <td>0</td>\n",
       "      <td>0</td>\n",
       "      <td>1500</td>\n",
       "      <td>1500</td>\n",
       "      <td>0.0</td>\n",
       "      <td>1.0</td>\n",
       "      <td>0.0</td>\n",
       "      <td>0.0</td>\n",
       "      <td>0.0</td>\n",
       "      <td>1320.0</td>\n",
       "      <td>0.0</td>\n",
       "      <td>0.0</td>\n",
       "    </tr>\n",
       "  </tbody>\n",
       "</table>\n",
       "</div>"
      ],
      "text/plain": [
       "            t     w   dw  ac1  ac2  f    pp  total_spec_w  f_ratio  pp_ratio  \\\n",
       "0  2624364000  1322  NaN    0    0  0  1500          1500      0.0       1.0   \n",
       "1  2624364001  1322  0.0    0    0  0  1500          1500      0.0       1.0   \n",
       "2  2624364002  1328  0.0    0    0  0  1500          1500      0.0       1.0   \n",
       "3  2624364003  1328  0.0    0    0  0  1500          1500      0.0       1.0   \n",
       "4  2624364004  1328  0.0    0    0  0  1500          1500      0.0       1.0   \n",
       "5  2624364005  1328  0.0    0    0  0  1500          1500      0.0       1.0   \n",
       "6  2624364006  1328  0.0    0    0  0  1500          1500      0.0       1.0   \n",
       "7  2624364007  1320  0.0    0    0  0  1500          1500      0.0       1.0   \n",
       "8  2624364008  1320  0.0    0    0  0  1500          1500      0.0       1.0   \n",
       "9  2624364009  1320  0.0    0    0  0  1500          1500      0.0       1.0   \n",
       "\n",
       "   ac2_ratio  ac1_ratio  f_actual  pp_actual  ac2_actual  ac1_actual  \n",
       "0        0.0        0.0       0.0     1322.0         0.0         0.0  \n",
       "1        0.0        0.0       0.0     1322.0         0.0         0.0  \n",
       "2        0.0        0.0       0.0     1328.0         0.0         0.0  \n",
       "3        0.0        0.0       0.0     1328.0         0.0         0.0  \n",
       "4        0.0        0.0       0.0     1328.0         0.0         0.0  \n",
       "5        0.0        0.0       0.0     1328.0         0.0         0.0  \n",
       "6        0.0        0.0       0.0     1328.0         0.0         0.0  \n",
       "7        0.0        0.0       0.0     1320.0         0.0         0.0  \n",
       "8        0.0        0.0       0.0     1320.0         0.0         0.0  \n",
       "9        0.0        0.0       0.0     1320.0         0.0         0.0  "
      ]
     },
     "execution_count": 43,
     "metadata": {},
     "output_type": "execute_result"
    }
   ],
   "source": [
    "df.head(10)"
   ]
  },
  {
   "cell_type": "markdown",
   "metadata": {},
   "source": [
    "### Plot individual devices"
   ]
  },
  {
   "cell_type": "code",
   "execution_count": 44,
   "metadata": {},
   "outputs": [
    {
     "data": {
      "image/png": "[encoded data removed]",
      "text/plain": [
       "<matplotlib.figure.Figure at 0x80a6fd630>"
      ]
     },
     "metadata": {},
     "output_type": "display_data"
    }
   ],
   "source": [
    "def plot_device(df, name):\n",
    "    df.iloc[:50000][['t', name]].set_index('t').plot()\n",
    "    \n",
    "plot_device(df, 'ac1_actual')"
   ]
  },
  {
   "cell_type": "code",
   "execution_count": 45,
   "metadata": {},
   "outputs": [
    {
     "data": {
      "image/png": "[encoded data removed]",
      "text/plain": [
       "<matplotlib.figure.Figure at 0x80a78c978>"
      ]
     },
     "metadata": {},
     "output_type": "display_data"
    }
   ],
   "source": [
    "plot_device(df, 'ac2_actual')"
   ]
  },
  {
   "cell_type": "code",
   "execution_count": 46,
   "metadata": {},
   "outputs": [
    {
     "data": {
      "image/png": "[encoded data removed]",
      "text/plain": [
       "<matplotlib.figure.Figure at 0x80dca5e48>"
      ]
     },
     "metadata": {},
     "output_type": "display_data"
    }
   ],
   "source": [
    "plot_device(df, 'pp')"
   ]
  },
  {
   "cell_type": "code",
   "execution_count": 47,
   "metadata": {},
   "outputs": [
    {
     "data": {
      "image/png": "[encoded data removed]",
      "text/plain": [
       "<matplotlib.figure.Figure at 0x80d5b68d0>"
      ]
     },
     "metadata": {},
     "output_type": "display_data"
    }
   ],
   "source": [
    "plot_device(df, 'f')"
   ]
  }
 ],
 "metadata": {
  "kernelspec": {
   "display_name": "Python 3",
   "language": "python",
   "name": "python3"
  },
  "language_info": {
   "codemirror_mode": {
    "name": "ipython",
    "version": 3
   },
   "file_extension": ".py",
   "mimetype": "text/x-python",
   "name": "python",
   "nbconvert_exporter": "python",
   "pygments_lexer": "ipython3",
   "version": "3.5.3"
  }
 },
 "nbformat": 4,
 "nbformat_minor": 2
}
